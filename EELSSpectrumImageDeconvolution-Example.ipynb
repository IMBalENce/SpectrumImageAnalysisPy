{
 "cells": [
  {
   "cell_type": "markdown",
   "metadata": {
    "deletable": true,
    "editable": true
   },
   "source": [
    "## Import modules"
   ]
  },
  {
   "cell_type": "code",
   "execution_count": null,
   "metadata": {
    "collapsed": false,
    "deletable": true,
    "editable": true
   },
   "outputs": [],
   "source": [
    "import SpectrumImage\n",
    "import SpectrumImagePlotter\n",
    "import Spectrum\n",
    "import os\n",
    "import Image\n",
    "import ImagePlotter\n",
    "import ImageDisplay\n",
    "import matplotlib.pyplot as plt\n",
    "%matplotlib qt"
   ]
  },
  {
   "cell_type": "markdown",
   "metadata": {
    "deletable": true,
    "editable": true
   },
   "source": [
    "## Import spectrum image and point spread function"
   ]
  },
  {
   "cell_type": "code",
   "execution_count": null,
   "metadata": {
    "collapsed": false,
    "deletable": true,
    "editable": true
   },
   "outputs": [],
   "source": [
    "# Define folder and filename for spectrum image\n",
    "folder = '/home/user/datafolder'\n",
    "filebase = 'EELS Spectrum Image.dm3'\n",
    "\n",
    "# Define folder to save the processed data in\n",
    "savefolder = os.path.join(folder, 'Processed')\n",
    "\n",
    "# Define folder and filename of the point spread function\n",
    "PSFfolder = folder\n",
    "PSFfilename = 'Spectrum_ZLP.csv'"
   ]
  },
  {
   "cell_type": "code",
   "execution_count": null,
   "metadata": {
    "collapsed": false,
    "deletable": true,
    "editable": true,
    "scrolled": true
   },
   "outputs": [],
   "source": [
    "# Load spectrum image from dm3 using hyperspy\n",
    "#s = hp.load(os.path.join(folder, filebase))\n",
    "#dispersion=s.original_metadata.ImageList.TagGroup0.ImageData.Calibrations.Dimension.TagGroup2.Scale\n",
    "#eels = SpectrumImage.EELSSpectrumImage(s.data, dispersion=dispersion)\n",
    "eels = SpectrumImage.EELSSpectrumImage.LoadFromDM3(os.path.join(folder, filebase), spectrum_calibrated=False)\n",
    "\n",
    "# Load point spread function spectrum as an EELSSpectrum object from csv\n",
    "PSF = Spectrum.EELSSpectrum.LoadFromCSV(os.path.join(PSFfolder, PSFfilename))\n",
    "\n",
    "# Print the FWHM of the point spread function\n",
    "print PSF.FindFW(0.5)"
   ]
  },
  {
   "cell_type": "markdown",
   "metadata": {
    "deletable": true,
    "editable": true
   },
   "source": [
    "## Threshold and deconvolve SI"
   ]
  },
  {
   "cell_type": "code",
   "execution_count": null,
   "metadata": {
    "collapsed": false,
    "deletable": true,
    "editable": true
   },
   "outputs": [],
   "source": [
    "# Threshold the spectrum image based on the zero loss peak to eliminate data with low signal and show the thresholded \n",
    "# image (threshold applies a mask) (optional)\n",
    "eels.Threshold(10000)\n",
    "plt.imshow(eels.data[:,:,eels.ZLP])\n",
    "plt.show()"
   ]
  },
  {
   "cell_type": "code",
   "execution_count": null,
   "metadata": {
    "collapsed": false,
    "deletable": true,
    "editable": true
   },
   "outputs": [],
   "source": [
    "# Deconvolve data using Richardson-Lucy algorithm, define the number of iterations to use (eg, 5), the point spread \n",
    "# function and the number of multiprocessing threads to use (eg, 8)\n",
    "RLiterations = 5\n",
    "eels2 = eels.RLDeconvolution(RLiterations, PSF, threads=8)"
   ]
  },
  {
   "cell_type": "markdown",
   "metadata": {
    "deletable": true,
    "editable": true
   },
   "source": [
    "## Plot SI data"
   ]
  },
  {
   "cell_type": "code",
   "execution_count": null,
   "metadata": {
    "collapsed": false,
    "deletable": true,
    "editable": true,
    "scrolled": true
   },
   "outputs": [],
   "source": [
    "# Plot the original spectrum image (p1) and the deconvolved spectrum image (p2) (interactive)\n",
    "p1 = SpectrumImagePlotter.SpectrumImagePlotter(eels, filepath=os.path.join(savefolder))\n",
    "p2 = SpectrumImagePlotter.SpectrumImagePlotter(eels2, filepath=os.path.join(savefolder, str(RLiterations) + 'RL'))\n",
    "p1.ShowPlot()"
   ]
  },
  {
   "cell_type": "code",
   "execution_count": null,
   "metadata": {
    "collapsed": false,
    "deletable": true,
    "editable": true
   },
   "outputs": [],
   "source": [
    "#Plot spectrum image using hyperspy interface\n",
    "def hspyplotSI(SIx, SI1metadata, ZLP, dispersion):\n",
    "\tSI = hp.signals.Spectrum(SIx)\n",
    "\tSI.metadata = SI1metadata\n",
    "\tSI.axes_manager[0].name = 'x'\n",
    "\tSI.axes_manager[0].units = 'nm'\n",
    "\tSI.axes_manager[1].name = 'y'\n",
    "\tSI.axes_manager[1].units = 'nm'\n",
    "\tSI.axes_manager[2].name = 'Energy loss'\n",
    "\tSI.axes_manager[2].units = 'eV'\n",
    "\tSI.axes_manager[2].scale = dispersion\n",
    "\tSI.axes_manager[2].offset = -ZLP * dispersion\n",
    "\tSI.plot()\n",
    "\treturn SI\n",
    "\n",
    "s_deconv = hspyplotSI(eels2.data.data, s.metadata, eels2.ZLP, dispersion)\n",
    "\n",
    "# Save as RPL format using hyperspy\n",
    "f1 = os.path.join(folder, s.metadata.General.original_filename)\n",
    "f2 = f1.encode('ascii','replace')[:-4]+'_%d' %RLiterations + 'RL.rpl'\n",
    "s_deconv.save(f2)"
   ]
  }
 ],
 "metadata": {
  "kernelspec": {
   "display_name": "Python 2",
   "language": "python",
   "name": "python2"
  },
  "language_info": {
   "codemirror_mode": {
    "name": "ipython",
    "version": 2
   },
   "file_extension": ".py",
   "mimetype": "text/x-python",
   "name": "python",
   "nbconvert_exporter": "python",
   "pygments_lexer": "ipython2",
   "version": "2.7.6"
  }
 },
 "nbformat": 4,
 "nbformat_minor": 0
}
